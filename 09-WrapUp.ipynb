{
 "cells": [
  {
   "cell_type": "markdown",
   "id": "f0752382-c8ac-4512-8b08-c798e281f615",
   "metadata": {},
   "source": [
    "# Wrap Up\n",
    "## Some Main Points to Take Home\n",
    "### A little more effort up front...\n",
    "### Start Simple and Iterate\n",
    "### Only Acquire What You Need\n",
    "### Use Git\n",
    "### Jupyter Notebook...\n",
    "#### ...is GREAT\n",
    "#### ...is USELESS\n",
    "## Other Resources\n",
    "[CIROH Docs](https://docs.ciroh.org)  \n",
    "- Esp. [nwmurl Library](https://docs.ciroh.org/docs/products/dataaccess/NWMURL%20Library)\n",
    "\n",
    "[TEEHR](https://rtiinternational.github.io/teehr/index.html)  \n",
    "- [TEEHR GitHub](https://github.com/RTIInternational/teehr)  \n",
    "\n",
    "[Boto3](https://boto3.amazonaws.com/v1/documentation/api/latest/index.html)  \n",
    "\n",
    "[THREDDS](https://www.unidata.ucar.edu/software/tds/)  \n",
    "\n",
    "Northeast Evaluation Testbed for National Water Model Applications (NETWA)  \n",
    "- [On CIROH Docs](https://docs.ciroh.org/docs/products/netwa/)  \n",
    "- [On Github](https://github.com/CIROH-UVM)  \n",
    "- [forecast-workflow data aquisition modules](https://github.com/CIROH-UVM/forecast-workflow/tree/main/data)  \n",
    "\n",
    "[PyViz Tool Listing](https://pyviz.org/tools.html)"
   ]
  },
  {
   "cell_type": "code",
   "execution_count": null,
   "id": "cccdac13-cc9d-4906-b199-d32e0c3932ed",
   "metadata": {},
   "outputs": [],
   "source": []
  }
 ],
 "metadata": {
  "kernelspec": {
   "display_name": "Python 3 (ipykernel)",
   "language": "python",
   "name": "python3"
  },
  "language_info": {
   "codemirror_mode": {
    "name": "ipython",
    "version": 3
   },
   "file_extension": ".py",
   "mimetype": "text/x-python",
   "name": "python",
   "nbconvert_exporter": "python",
   "pygments_lexer": "ipython3",
   "version": "3.11.8"
  }
 },
 "nbformat": 4,
 "nbformat_minor": 5
}
