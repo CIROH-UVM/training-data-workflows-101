{
 "cells": [
  {
   "cell_type": "markdown",
   "id": "09b326ca-c721-4cb8-9157-a9f2650a3c54",
   "metadata": {},
   "source": [
    "## Computational Workflows  \n",
    "A useful way to think of pretty much any software task is in terms of a computational workflow. That is, what are the steps required to get you from the very beginning to your end goal. And not in the context of computing code, but in plain English (or the human language of your choice). I'd recommend starting with a simple list of high-level tasks you need to perform, or if you're more visual, a flowchart. Then, from there, you can start to fill in more and more \"computational\" details that each task entails... maybe in outline form. The point of this exercise it to, at least initially, remove yourself from the computational and data specific details and allow youself to think more abstractly about the process and worry less about the coding and data management specfics."
   ]
  },
  {
   "attachments": {},
   "cell_type": "markdown",
   "id": "a4b587cf-fb47-4c95-8c2e-018b792fa280",
   "metadata": {},
   "source": [
    "## Some Data Aquisition, Manipulation, and Visualization Workflows\n",
    "### Our Tutorial Workflow\n",
    "\n",
    "Here's a general, very simple data workflow that we'll use for this workshop:\n",
    "\n",
    "![Our Training Data Workflow](images/DataWorkflowTraining.png \"Our Training Data Workflow\")\n",
    "\n",
    "### A Modeling Workflow\n",
    "But, more generally, you'll probably be doing something more like this:\n",
    "\n",
    "![A General Modeling Workflow](images/DataWorkflowModeling.png \"A General Modeling Workflow\")\n",
    "\n",
    "### A Generalized Data Visualization Workflow\n",
    "I recently watched a [webinar by Vetria Byrd of Purdue University](https://sites.google.com/njit.edu/cds-exchange/webinar-series/data-visualization) that was [part of series on how to build computational and data science curricula](https://sites.google.com/njit.edu/cds-exchange/webinar-series/) put on by the [Computational and Data Science Exchange (CDS-Exchange)](https://sites.google.com/njit.edu/cds-exchange/home).\n",
    "\n",
    "Dr. Byrd and her colleagues have put together a workflow for data visualization:\n",
    "\n",
    "![Data Visualization Workflow](images/DataWorkflowVisualization.png \"Data Visualization Workflow\")  \n",
    "Byrd, V. L., & Dwenger, N. (2021). Activity worksheets for teaching and learning\n",
    "data visualization. *IEEE Computer Graphics and Applications, 41*(6), 25-36.\n",
    "\n",
    "Way more steps then we'll have time to go through today, but I like how this workflow relates to Bloom's Taxonomy as one becomes more and more familiar with the data and is able to turn that data into knowledge, and then understanding and wisdom. This workflow also includes the interative and dynamic nature of data workflows."
   ]
  },
  {
   "cell_type": "markdown",
   "id": "2716ecd0-9944-4f7e-8ada-cb511b3823e8",
   "metadata": {},
   "source": [
    "## And Finally, the Main Point of Why We Do This: Modularity\n",
    "\n",
    "By breaking a software system into discrete steps, we can treat each step as a stand-alone operation, and if we design those steps correctly by keeping the ***interface*** between each step standardized, we can swap out each specific implementation of a step with a different implementation and not have to modify anything else in the workflow.  Let's just take the \"Visualize Data\" step as an example.  The first time you write this workflow, you just want to get it done and you write some code to visualize the data very quickly... say, just print out some rows of the data and calculate the summary statistics. But, as you work on the workflow, you decide you want to have a nice plot of the data, and then maybe you want to smooth that line in a rolling average, or maybe plot the data over the top of a base map. By thinking of this as a workflow, you can write a different \"Visualize Data\" ***module*** for each of these cases and then swap them in as needed.  You can even select multiple visualization modules for a single workflow run and output multiple visualizations. I'd visualize that like this:\n",
    "\n",
    "![A General Modeling Workflow with Modularity Example](images/DataWorkflowModularity.png \"A General Modeling Workflow with Modularity Example\")\n"
   ]
  },
  {
   "cell_type": "markdown",
   "id": "4a56c024-5004-4ee2-9657-35c55783f9f8",
   "metadata": {},
   "source": []
  },
  {
   "cell_type": "code",
   "execution_count": null,
   "id": "64d5e734-d038-4611-ac66-e1f982cb4703",
   "metadata": {},
   "outputs": [],
   "source": []
  }
 ],
 "metadata": {
  "kernelspec": {
   "display_name": "Python 3 (ipykernel)",
   "language": "python",
   "name": "python3"
  },
  "language_info": {
   "codemirror_mode": {
    "name": "ipython",
    "version": 3
   },
   "file_extension": ".py",
   "mimetype": "text/x-python",
   "name": "python",
   "nbconvert_exporter": "python",
   "pygments_lexer": "ipython3",
   "version": "3.11.8"
  }
 },
 "nbformat": 4,
 "nbformat_minor": 5
}
