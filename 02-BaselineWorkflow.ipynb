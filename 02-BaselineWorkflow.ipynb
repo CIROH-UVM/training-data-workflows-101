{
 "cells": [
  {
   "cell_type": "markdown",
   "id": "578db089-29f7-4396-994b-d784bccd5826",
   "metadata": {},
   "source": [
    "# A Baseline Workflow\n",
    "![Our Training Data Workflow](images/DataWorkflowTraining.png \"Our Training Data Workflow\")"
   ]
  },
  {
   "cell_type": "code",
   "execution_count": 2,
   "id": "ea2d7f39-d07f-48f3-b941-6d680b0759e8",
   "metadata": {},
   "outputs": [
    {
     "data": {
      "text/html": [
       "<div>\n",
       "<style scoped>\n",
       "    .dataframe tbody tr th:only-of-type {\n",
       "        vertical-align: middle;\n",
       "    }\n",
       "\n",
       "    .dataframe tbody tr th {\n",
       "        vertical-align: top;\n",
       "    }\n",
       "\n",
       "    .dataframe thead th {\n",
       "        text-align: right;\n",
       "    }\n",
       "</style>\n",
       "<table border=\"1\" class=\"dataframe\">\n",
       "  <thead>\n",
       "    <tr style=\"text-align: right;\">\n",
       "      <th></th>\n",
       "      <th>site_no</th>\n",
       "      <th>00060</th>\n",
       "      <th>00060_cd</th>\n",
       "    </tr>\n",
       "    <tr>\n",
       "      <th>datetime</th>\n",
       "      <th></th>\n",
       "      <th></th>\n",
       "      <th></th>\n",
       "    </tr>\n",
       "  </thead>\n",
       "  <tbody>\n",
       "    <tr>\n",
       "      <th>2022-06-01 04:00:00+00:00</th>\n",
       "      <td>04294000</td>\n",
       "      <td>2240.0</td>\n",
       "      <td>A</td>\n",
       "    </tr>\n",
       "    <tr>\n",
       "      <th>2022-06-01 04:15:00+00:00</th>\n",
       "      <td>04294000</td>\n",
       "      <td>2210.0</td>\n",
       "      <td>A</td>\n",
       "    </tr>\n",
       "    <tr>\n",
       "      <th>2022-06-01 04:30:00+00:00</th>\n",
       "      <td>04294000</td>\n",
       "      <td>2210.0</td>\n",
       "      <td>A</td>\n",
       "    </tr>\n",
       "    <tr>\n",
       "      <th>2022-06-01 04:45:00+00:00</th>\n",
       "      <td>04294000</td>\n",
       "      <td>2190.0</td>\n",
       "      <td>A</td>\n",
       "    </tr>\n",
       "    <tr>\n",
       "      <th>2022-06-01 05:00:00+00:00</th>\n",
       "      <td>04294000</td>\n",
       "      <td>2190.0</td>\n",
       "      <td>A</td>\n",
       "    </tr>\n",
       "    <tr>\n",
       "      <th>...</th>\n",
       "      <td>...</td>\n",
       "      <td>...</td>\n",
       "      <td>...</td>\n",
       "    </tr>\n",
       "    <tr>\n",
       "      <th>2022-11-02 02:45:00+00:00</th>\n",
       "      <td>04294000</td>\n",
       "      <td>914.0</td>\n",
       "      <td>A</td>\n",
       "    </tr>\n",
       "    <tr>\n",
       "      <th>2022-11-02 03:00:00+00:00</th>\n",
       "      <td>04294000</td>\n",
       "      <td>860.0</td>\n",
       "      <td>A</td>\n",
       "    </tr>\n",
       "    <tr>\n",
       "      <th>2022-11-02 03:15:00+00:00</th>\n",
       "      <td>04294000</td>\n",
       "      <td>780.0</td>\n",
       "      <td>A</td>\n",
       "    </tr>\n",
       "    <tr>\n",
       "      <th>2022-11-02 03:30:00+00:00</th>\n",
       "      <td>04294000</td>\n",
       "      <td>718.0</td>\n",
       "      <td>A</td>\n",
       "    </tr>\n",
       "    <tr>\n",
       "      <th>2022-11-02 03:45:00+00:00</th>\n",
       "      <td>04294000</td>\n",
       "      <td>674.0</td>\n",
       "      <td>A</td>\n",
       "    </tr>\n",
       "  </tbody>\n",
       "</table>\n",
       "<p>14775 rows × 3 columns</p>\n",
       "</div>"
      ],
      "text/plain": [
       "                            site_no   00060 00060_cd\n",
       "datetime                                            \n",
       "2022-06-01 04:00:00+00:00  04294000  2240.0        A\n",
       "2022-06-01 04:15:00+00:00  04294000  2210.0        A\n",
       "2022-06-01 04:30:00+00:00  04294000  2210.0        A\n",
       "2022-06-01 04:45:00+00:00  04294000  2190.0        A\n",
       "2022-06-01 05:00:00+00:00  04294000  2190.0        A\n",
       "...                             ...     ...      ...\n",
       "2022-11-02 02:45:00+00:00  04294000   914.0        A\n",
       "2022-11-02 03:00:00+00:00  04294000   860.0        A\n",
       "2022-11-02 03:15:00+00:00  04294000   780.0        A\n",
       "2022-11-02 03:30:00+00:00  04294000   718.0        A\n",
       "2022-11-02 03:45:00+00:00  04294000   674.0        A\n",
       "\n",
       "[14775 rows x 3 columns]"
      ]
     },
     "execution_count": 2,
     "metadata": {},
     "output_type": "execute_result"
    }
   ],
   "source": [
    "import dataretrieval.nwis as nwis\n",
    "# https://github.com/DOI-USGS/dataretrieval-python\n",
    "\n",
    "# Acquire / Filter\n",
    "df = nwis.get_record(sites='04294000', service='iv', start='2022-06-01', end='2022-11-01', parameterCD='00060')\n",
    "df"
   ]
  },
  {
   "cell_type": "markdown",
   "id": "589f8ee2-27da-408a-83ba-f6a454d9180d",
   "metadata": {},
   "source": [
    "## Quick Sidebar: pandas\n",
    "\n",
    "If we look at the type of variable that df is, we'll see it's a pandas DataFrame.\n"
   ]
  },
  {
   "cell_type": "code",
   "execution_count": 3,
   "id": "450d88c5-8e1d-415d-b3c1-c487a17155b2",
   "metadata": {},
   "outputs": [
    {
     "data": {
      "text/plain": [
       "pandas.core.frame.DataFrame"
      ]
     },
     "execution_count": 3,
     "metadata": {},
     "output_type": "execute_result"
    }
   ],
   "source": [
    "type(df)"
   ]
  },
  {
   "cell_type": "markdown",
   "id": "74b325d3-243e-437d-9649-b4909f78f7dc",
   "metadata": {},
   "source": [
    "Show of hands, who's used pandas and feels like they have a good grasp of it?\n",
    "\n",
    "pandas is one of the most widely used imports in the Python ecosystem. The main use of pandas is to use it's core data structure, the DataFrame. If you're familiar with R, the pandas DataFrame is very similar. You can think of a DataFrame like a table, with columns of variables and rows of data records. pandas DataFrames have an index and defining the index as appropriate to your data will allow you to use the pandas library of functions most effectively. The pandas library of functions (their API - Application Programmer's Interface) is massive, allowing you to filter and manipulate your data in just a few lines of code.  More info here: [https://pandas.pydata.org/docs/index.html](https://pandas.pydata.org/docs/index.html)\n",
    "\n",
    "## Another Quick Sidebar: NumPy\n",
    "\n",
    "Another quiz: Who knows what NumPy is?\n",
    "\n",
    "NumPy is another widely used Python import. Where as pandas operates on rows and columns of a table, NumPy is responsible for the definition of the data types in the table like integers, floats, etc. NumPy data types are the default data types in pandas DataFrames (although there is a long-term plan to shift to pyarrow, but that is yet another digression). Because of this underlying use of NumPy by pandas, you can easily retrieve columns and DataFrames as NumPy arrays and operate on them with the highly optimized NumPy mathmatical operators.  More info here: [https://numpy.org/](https://numpy.org/)"
   ]
  },
  {
   "cell_type": "markdown",
   "id": "92d516a2-5717-411f-ba03-b33342d0b5dd",
   "metadata": {},
   "source": [
    "## Back to our Workflow..."
   ]
  },
  {
   "cell_type": "code",
   "execution_count": 4,
   "id": "3342a546-d50a-49fe-b88b-bbc91109f4e1",
   "metadata": {},
   "outputs": [
    {
     "data": {
      "text/plain": [
       "datetime\n",
       "2022-06-01 00:00:00+00:00    1628.875000\n",
       "2022-06-02 00:00:00+00:00    2029.770833\n",
       "2022-06-03 00:00:00+00:00    2553.333333\n",
       "2022-06-04 00:00:00+00:00    2503.229167\n",
       "2022-06-05 00:00:00+00:00    1667.802083\n",
       "                                ...     \n",
       "2022-10-29 00:00:00+00:00     898.187500\n",
       "2022-10-30 00:00:00+00:00     796.343750\n",
       "2022-10-31 00:00:00+00:00     762.520833\n",
       "2022-11-01 00:00:00+00:00     650.510417\n",
       "2022-11-02 00:00:00+00:00    1238.375000\n",
       "Freq: D, Name: 00060, Length: 155, dtype: float64"
      ]
     },
     "execution_count": 4,
     "metadata": {},
     "output_type": "execute_result"
    }
   ],
   "source": [
    "# Manipulate\n",
    "daily = df['00060'].resample('1D').mean()\n",
    "daily"
   ]
  },
  {
   "cell_type": "code",
   "execution_count": 5,
   "id": "6a64ca6a-71fe-4aa3-914b-d2084fb26102",
   "metadata": {},
   "outputs": [
    {
     "data": {
      "text/plain": [
       "count     155.000000\n",
       "mean      989.816458\n",
       "std      1278.847398\n",
       "min       110.748958\n",
       "25%       306.796875\n",
       "50%       549.020833\n",
       "75%      1064.348958\n",
       "max      9091.354167\n",
       "Name: 00060, dtype: float64"
      ]
     },
     "execution_count": 5,
     "metadata": {},
     "output_type": "execute_result"
    }
   ],
   "source": [
    "# Visualize\n",
    "daily.describe()"
   ]
  },
  {
   "cell_type": "markdown",
   "id": "ca0d10be-cf51-487f-8fb6-3c918bffd9f4",
   "metadata": {},
   "source": [
    "Now, putting it all together...\n",
    "\n",
    "![Our Training Data Workflow](images/DataWorkflowTraining.png \"Our Training Data Workflow\")"
   ]
  },
  {
   "cell_type": "code",
   "execution_count": 6,
   "id": "f0731e7b-edbf-4722-965a-b7c8c01d1558",
   "metadata": {},
   "outputs": [
    {
     "data": {
      "text/plain": [
       "count     155.000000\n",
       "mean      989.816458\n",
       "std      1278.847398\n",
       "min       110.748958\n",
       "25%       306.796875\n",
       "50%       549.020833\n",
       "75%      1064.348958\n",
       "max      9091.354167\n",
       "Name: 00060, dtype: float64"
      ]
     },
     "execution_count": 6,
     "metadata": {},
     "output_type": "execute_result"
    }
   ],
   "source": [
    "import dataretrieval.nwis as nwis\n",
    "\n",
    "# Acquire / Filter\n",
    "df = nwis.get_record(sites='04294000', service='iv', start='2022-06-01', end='2022-11-01', parameterCD='00060')\n",
    "\n",
    "# Manipulate\n",
    "daily = df['00060'].resample('1D').mean()\n",
    "\n",
    "# Visualize\n",
    "daily.describe()"
   ]
  },
  {
   "cell_type": "code",
   "execution_count": null,
   "id": "ae04be19-3055-4167-b28e-02126e86b5d2",
   "metadata": {},
   "outputs": [],
   "source": []
  }
 ],
 "metadata": {
  "kernelspec": {
   "display_name": "Python 3 (ipykernel)",
   "language": "python",
   "name": "python3"
  },
  "language_info": {
   "codemirror_mode": {
    "name": "ipython",
    "version": 3
   },
   "file_extension": ".py",
   "mimetype": "text/x-python",
   "name": "python",
   "nbconvert_exporter": "python",
   "pygments_lexer": "ipython3",
   "version": "3.11.8"
  }
 },
 "nbformat": 4,
 "nbformat_minor": 5
}
