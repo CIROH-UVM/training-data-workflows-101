{
 "cells": [
  {
   "cell_type": "markdown",
   "id": "742fdba4-4868-45e6-84d9-542abccf146f",
   "metadata": {},
   "source": [
    "# Functions\n",
    "\n",
    "## Introduction\n",
    "Now that we have a baseline workflow, how do we organize it into those seperate boxes in the workflow.  That is, how do we create those modules so that things are modular?\n",
    "\n",
    "We use functions!\n",
    "\n",
    "How many of you have created a function in Python before?\n",
    "\n",
    "Even if you haven't created one, you've most certainly used them.  In fact, we've already used them today.  Remember get_record() from the dataretrival package?  That's a function.\n",
    "\n",
    "## Parts of a function\n",
    "```df = nwis.get_record(sites='04294000', service='iv', start='2022-06-01', end='2022-11-01', parameterCD='00060')```  \n",
    "  \n",
    "***Name:*** get_record  \n",
    "  This is how you call the function\n",
    "\n",
    "***Parameters:*** sites, service, start, end, parameterCD  \n",
    "  These are variables you pass to the function to customize it... to get it to do what you want.\n",
    "\n",
    "***Return Value:*** df  \n",
    "  This is what the function returns to you\n",
    "\n",
    "## Creating a Function\n",
    "\n",
    "OK... let's create our first function for our first workflow block, acquire_data().  Note that I have to define it before I use it...\n"
   ]
  },
  {
   "cell_type": "code",
   "execution_count": null,
   "id": "d989ffc6-2f97-4e71-8119-5414589511f0",
   "metadata": {
    "scrolled": true
   },
   "outputs": [],
   "source": [
    "import dataretrieval.nwis as nwis\n",
    "\n",
    "def acquire_data():\n",
    "    df = nwis.get_record(sites='04294000', service='iv', start='2022-06-01', end='2022-11-01', parameterCD='00060')\n",
    "    return df\n",
    "\n",
    "returned_df = acquire_data()\n",
    "returned_df"
   ]
  },
  {
   "cell_type": "markdown",
   "id": "54580cf1-e0e7-4ea6-b343-701e3d089239",
   "metadata": {},
   "source": [
    "## Parameterizing the Function\n",
    "\n",
    "So, now we have a function, but it's not super useful as a function... it always returns the same thing, streamflow at site 0429400 between June 1, 2022 and November 1, 2022.\n",
    "\n",
    "Let's define some parameters to make this more useful...  But first, we need to talk about a critical concept when working with functions.\n",
    "\n",
    "### Quick Sidebar: Variable Scope\n",
    "\n",
    "One of the most common concepts to trip up folks who are just starting with functions is the concept of variable scope.  When you create a function, all the variables you define within the function, stay in the function.\n",
    "\n",
    "That means they are ***NOT*** accessible outside the function. So, with this in mind, is df above, which is defined in acquire_data(), available outside acquire_data()?\n"
   ]
  },
  {
   "cell_type": "code",
   "execution_count": null,
   "id": "c30e1b7c-664c-4dc5-8024-a1e80f02d19b",
   "metadata": {},
   "outputs": [],
   "source": [
    "df"
   ]
  },
  {
   "cell_type": "markdown",
   "id": "955726d4-5a31-43b3-bc73-1659446388e7",
   "metadata": {},
   "source": [
    "So why do programming languages do this?  ***To make sure the functions stay modular.***  Functions should take as parameters everything they need to do their job and then return their work without modifying any other variables you define.  If functions could define and modify variables outside the function, this could quickly wreck havoc!  Because of variable scope, you can reuse variable names inside the function knowing that those variables are seperate from their variables outside of the functions:"
   ]
  },
  {
   "cell_type": "code",
   "execution_count": null,
   "id": "bb187927-c1e8-45f1-a7c7-626b27f59d78",
   "metadata": {},
   "outputs": [],
   "source": [
    "import dataretrieval.nwis as nwis\n",
    "\n",
    "def acquire_data():\n",
    "    # df inside the function\n",
    "    df = nwis.get_record(sites='04294000', service='iv', start='2022-06-01', end='2022-11-01', parameterCD='00060')\n",
    "    return df\n",
    "\n",
    "# a totally seperate df outside the function\n",
    "df = acquire_data()\n",
    "df"
   ]
  },
  {
   "cell_type": "markdown",
   "id": "46eb54bc-a65b-4abe-b7c7-5adc3c125c4f",
   "metadata": {},
   "source": [
    "OK, with variable scope understood, let's parameterize some of the variables in our function and change the name to better describe exactly what it does..."
   ]
  },
  {
   "cell_type": "code",
   "execution_count": null,
   "id": "c84eed55-669e-4e84-9d56-58eedce6534e",
   "metadata": {},
   "outputs": [],
   "source": [
    "import dataretrieval.nwis as nwis\n",
    "\n",
    "def acquire_streamflow_nwis_iv(site, start, end):\n",
    "    df = nwis.get_record(sites=site, service='iv', start=start, end=end, parameterCD='00060')\n",
    "    return df\n",
    "\n",
    "df = acquire_streamflow_nwis_iv(site='04294000', start=\"2022-06-01\", end=\"2022-11-01\")\n",
    "df"
   ]
  },
  {
   "cell_type": "markdown",
   "id": "51880ba2-5c81-4c1f-8fb6-288b4aff0e10",
   "metadata": {},
   "source": [
    "## Integrate back into Baseline Workflow\n",
    "\n",
    "Now that we have this function, let's use it!"
   ]
  },
  {
   "cell_type": "code",
   "execution_count": null,
   "id": "a5ebb5cb-99f6-463b-8784-7156aade69d3",
   "metadata": {},
   "outputs": [],
   "source": [
    "import dataretrieval.nwis as nwis\n",
    "\n",
    "def acquire_streamflow_nwis_iv(site, start, end):\n",
    "    df = nwis.get_record(sites=site, service='iv', start=start, end=end, parameterCD='00060')\n",
    "    return df\n",
    "\n",
    "# Acquire / Filter\n",
    "# Replace old code with our new function\n",
    "# df = nwis.get_record(sites='04294000', service='iv', start='2022-06-01', end='2022-11-01', parameterCD='00060')\n",
    "df = acquire_streamflow_nwis_iv(site='04294000', start='2022-06-01', end='2022-11-01')\n",
    "\n",
    "# Manipulate\n",
    "daily = df['00060'].resample('1D').mean()\n",
    "\n",
    "# Visualize\n",
    "daily.describe()"
   ]
  },
  {
   "cell_type": "markdown",
   "id": "9fef96bf-6140-4b70-a475-530c23cd48e8",
   "metadata": {},
   "source": [
    "## Functionalize/Modularize Rest of the Workflow"
   ]
  },
  {
   "cell_type": "code",
   "execution_count": null,
   "id": "3c860acf-b136-4a1d-bc08-a65fe03b9b4d",
   "metadata": {},
   "outputs": [],
   "source": [
    "import dataretrieval.nwis as nwis\n",
    "\n",
    "def acquire_streamflow_nwis_iv(site, start, end):\n",
    "    df = nwis.get_record(sites=site, service='iv', start=start, end=end, parameterCD='00060')\n",
    "    return df\n",
    "\n",
    "def resample_to_daily(df):\n",
    "    return df['00060'].resample('1D').mean()\n",
    "\n",
    "def visualize_summary_statistics(df):\n",
    "    print(df.describe())\n",
    "\n",
    "# Acquire / Filter\n",
    "df = acquire_streamflow_nwis_iv(site='04294000', start='2022-06-01', end='2022-11-01')\n",
    "\n",
    "# Manipulate\n",
    "daily = resample_to_daily(df)\n",
    "\n",
    "# Visualize\n",
    "visualize_summary_statistics(daily)"
   ]
  }
 ],
 "metadata": {
  "kernelspec": {
   "display_name": "Python 3 (ipykernel)",
   "language": "python",
   "name": "python3"
  },
  "language_info": {
   "codemirror_mode": {
    "name": "ipython",
    "version": 3
   },
   "file_extension": ".py",
   "mimetype": "text/x-python",
   "name": "python",
   "nbconvert_exporter": "python",
   "pygments_lexer": "ipython3",
   "version": "3.11.8"
  }
 },
 "nbformat": 4,
 "nbformat_minor": 5
}
