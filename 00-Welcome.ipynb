{
 "cells": [
  {
   "cell_type": "markdown",
   "id": "f24d9ccc-a43a-4650-9cd9-140536704913",
   "metadata": {},
   "source": [
    "# Data Workflows 101: Introduction\n",
    "\n",
    "## This is NOT a Demo or Coding Workshop\n",
    "Instead, the purpose of this workshop is to teach you to think a bit like a software engineer (like me!). Meaning, how to design your software to optimize reproducability, readability, maintainability and code-reuse. Yes, we'll use some Python and some cool tools along the way, but that's just means to an end. The real takeaway -- I hope -- is that you will learn new strategies for designing your code that will make you more efficient and much less frustrated as your research goals (and code) change over time."
   ]
  },
  {
   "cell_type": "markdown",
   "id": "f3e64ec4-ad68-431a-9ca5-67b7a2d32444",
   "metadata": {},
   "source": [
    "## Getting Started\n",
    "1) Login to ```https://ciroh.awi.2i2c.cloud```\n",
    "2) Pick Server Option -- Medium (or Small)\n",
    "3) On the Image dropdown, pick ```DevCon24 workshop: Data Workflows 101```\n",
    "4) Once loaded, go to the Git Menu... choose Clone Repository, and enter ```https://github.com/CIROH-UVM/training-data-workflows-101.git```\n",
    "\n",
    "You should now see the training materials in your File Browser on the left side of your Jupyter interface."
   ]
  }
 ],
 "metadata": {
  "kernelspec": {
   "display_name": "Python 3 (ipykernel)",
   "language": "python",
   "name": "python3"
  },
  "language_info": {
   "codemirror_mode": {
    "name": "ipython",
    "version": 3
   },
   "file_extension": ".py",
   "mimetype": "text/x-python",
   "name": "python",
   "nbconvert_exporter": "python",
   "pygments_lexer": "ipython3",
   "version": "3.11.8"
  }
 },
 "nbformat": 4,
 "nbformat_minor": 5
}
