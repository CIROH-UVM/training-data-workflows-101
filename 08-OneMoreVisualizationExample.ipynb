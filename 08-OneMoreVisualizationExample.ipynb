{
 "cells": [
  {
   "cell_type": "markdown",
   "id": "0f9a78cf-242a-44f7-b5e2-5294ff7f852a",
   "metadata": {},
   "source": [
    "# One More Visualization Example and Then Back to the Workflow"
   ]
  },
  {
   "cell_type": "markdown",
   "id": "28d724cf-2ff7-4ecb-82f6-11a4f40bf23c",
   "metadata": {},
   "source": [
    "## Comparing Two Series\n",
    "With this workflow and modules we've designed, we aren't limited to just visualizing one series.  We can use our modules to acquire two data series and compare them."
   ]
  },
  {
   "cell_type": "code",
   "execution_count": null,
   "id": "a087c114-b06c-4170-921e-78b71e7f5c29",
   "metadata": {},
   "outputs": [],
   "source": [
    "from pythonv2.modules import *\n",
    "\n",
    "usgs_data = acquire_streamflow_nwis_iv(site='04294000', start='2016-06-01', end='2016-11-01')\n",
    "nwm_data = acquire_streamflow_nwm_retrospective(site=166176984, start='2016-06-01', end='2016-11-01')"
   ]
  },
  {
   "cell_type": "markdown",
   "id": "bdedf6a7-9731-4e03-baab-b1b14cf39153",
   "metadata": {},
   "source": [
    "Now, let's make a module to compare them.\n",
    "\n",
    "Note the use of the save_figure parameter with a default value. You can give your function parameters a default value and then they are optional for the user. If the user doesn't include that save_figure parameter in their function call, Python assumes it's equal to False.\n",
    "\n",
    "Also note that matplotlib can also output a figure to a file. A number of file formats are supported... we'll pick .png here. We're doing this because we want to use this when the workflow is run from the terminal prompt and the display of figures isn't always possible from the terminal prompt, but that's a story for another workshop."
   ]
  },
  {
   "cell_type": "code",
   "execution_count": null,
   "id": "66038784-31df-40ed-a353-33f6f2aa1144",
   "metadata": {},
   "outputs": [],
   "source": [
    "import matplotlib.pyplot as plt\n",
    "\n",
    "def visualize_matplotlib_comparison(series1, series2, save_figure = False):\n",
    "    fig, ax = plt.subplots()\n",
    "    ax.plot(series1, linewidth=2.0, label=f'Series 1: {series1.name}')\n",
    "    ax.plot(series2, linewidth=2.0, label=f'Series 2: {series2.name}')\n",
    "    plt.legend()\n",
    "    ax.set_title(f'{series1.name} vs. {series2.name}')\n",
    "    if save_figure:\n",
    "        plt.savefig('comparison.png')\n",
    "    else:\n",
    "        plt.show()\n",
    "\n",
    "visualize_matplotlib_comparison(usgs_data, nwm_data)"
   ]
  },
  {
   "cell_type": "markdown",
   "id": "14c4433e-2d8b-462f-87e7-0fe154dd522b",
   "metadata": {},
   "source": [
    "Uh oh... Looks like the units aren't the same between the streamflow timeseries...\n",
    "\n",
    "Let's write a quick function to fit in the Manipulate Data step of our workflow.\n"
   ]
  },
  {
   "cell_type": "code",
   "execution_count": null,
   "id": "eb84d0ec-8793-48c3-9812-3e72eee4f71b",
   "metadata": {},
   "outputs": [],
   "source": [
    "def cubicftsec_to_cubicmsec(series):\n",
    "    new_name = series.name.split('(')[0] + '(m^3 s^-1)'\n",
    "    return (series * 0.0283168).rename(new_name)\n",
    "\n",
    "adjusted_usgs = cubicftsec_to_cubicmsec(usgs_data)\n",
    "visualize_matplotlib_comparison(adjusted_usgs, nwm_data)"
   ]
  },
  {
   "cell_type": "markdown",
   "id": "08ee2f89-4171-4567-a56e-886fb8bed009",
   "metadata": {},
   "source": [
    "## Back to the Workflow\n",
    "Now, we can use these functions to actually do some interesting stuff in our workflow.\n",
    "\n",
    "This new version of the workflow and modules are in the ```pythonv2``` directory.\n",
    "\n",
    "[modules.py](pythonv2/modules.py)  \n",
    "[workflowCLI.py](pythonv2/workflowCLI.py)  \n",
    "\n",
    "To run this new workflow, change directory to pythonv2, and then use something like ```python workflowCLI.py 2016-06-01 2016-11-01``` as before.  And... if we want to compare a different timeframe, we can simply run that workflow with different dates as command line arguments!\n"
   ]
  }
 ],
 "metadata": {
  "kernelspec": {
   "display_name": "Python 3 (ipykernel)",
   "language": "python",
   "name": "python3"
  },
  "language_info": {
   "codemirror_mode": {
    "name": "ipython",
    "version": 3
   },
   "file_extension": ".py",
   "mimetype": "text/x-python",
   "name": "python",
   "nbconvert_exporter": "python",
   "pygments_lexer": "ipython3",
   "version": "3.11.8"
  }
 },
 "nbformat": 4,
 "nbformat_minor": 5
}
