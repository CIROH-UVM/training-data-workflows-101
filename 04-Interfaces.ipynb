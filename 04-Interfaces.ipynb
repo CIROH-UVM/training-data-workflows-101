{
 "cells": [
  {
   "cell_type": "markdown",
   "id": "90cee009-a45b-4441-9e9a-404dba745aa8",
   "metadata": {},
   "source": [
    "# Interfaces\n",
    "## The Arrows between the Boxes\n",
    "Recalling our tutorial workflow, we have the boxes that represent actions, our modules, but we also have the arrows that represent the interface between the modules.\n",
    "\n",
    "![Our Training Data Workflow](images/DataWorkflowTraining.png \"Our Training Data Workflow\")\n"
   ]
  },
  {
   "cell_type": "markdown",
   "id": "1e8258ef-6cb6-4dbe-b549-7136f7b12c2c",
   "metadata": {},
   "source": [
    "## Defining the Interface Between Modules\n",
    "It's important to define the interface between the modules so that when we swap specific implementations of each step out, the modules know what to expect as input.\n",
    "\n",
    "Let's look at our current baseline workflow and see what our interfaces are."
   ]
  },
  {
   "cell_type": "code",
   "execution_count": 2,
   "id": "49a9ec18-5082-473b-b051-e7e90caaa59e",
   "metadata": {},
   "outputs": [
    {
     "name": "stdout",
     "output_type": "stream",
     "text": [
      "                            site_no   00060 00060_cd\n",
      "datetime                                            \n",
      "2022-06-01 04:00:00+00:00  04294000  2240.0        A\n",
      "2022-06-01 04:15:00+00:00  04294000  2210.0        A\n",
      "2022-06-01 04:30:00+00:00  04294000  2210.0        A\n",
      "2022-06-01 04:45:00+00:00  04294000  2190.0        A\n",
      "2022-06-01 05:00:00+00:00  04294000  2190.0        A\n",
      "...                             ...     ...      ...\n",
      "2022-11-02 02:45:00+00:00  04294000   914.0        A\n",
      "2022-11-02 03:00:00+00:00  04294000   860.0        A\n",
      "2022-11-02 03:15:00+00:00  04294000   780.0        A\n",
      "2022-11-02 03:30:00+00:00  04294000   718.0        A\n",
      "2022-11-02 03:45:00+00:00  04294000   674.0        A\n",
      "\n",
      "[14775 rows x 3 columns]\n",
      "datetime\n",
      "2022-06-01 00:00:00+00:00    1628.875000\n",
      "2022-06-02 00:00:00+00:00    2029.770833\n",
      "2022-06-03 00:00:00+00:00    2553.333333\n",
      "2022-06-04 00:00:00+00:00    2503.229167\n",
      "2022-06-05 00:00:00+00:00    1667.802083\n",
      "                                ...     \n",
      "2022-10-29 00:00:00+00:00     898.187500\n",
      "2022-10-30 00:00:00+00:00     796.343750\n",
      "2022-10-31 00:00:00+00:00     762.520833\n",
      "2022-11-01 00:00:00+00:00     650.510417\n",
      "2022-11-02 00:00:00+00:00    1238.375000\n",
      "Freq: D, Name: 00060, Length: 155, dtype: float64\n",
      "count     155.000000\n",
      "mean      989.816458\n",
      "std      1278.847398\n",
      "min       110.748958\n",
      "25%       306.796875\n",
      "50%       549.020833\n",
      "75%      1064.348958\n",
      "max      9091.354167\n",
      "Name: 00060, dtype: float64\n"
     ]
    }
   ],
   "source": [
    "import dataretrieval.nwis as nwis\n",
    "\n",
    "def acquire_streamflow_nwis_iv(site, start, end):\n",
    "    df = nwis.get_record(sites=site, service='iv', start=start, end=end, parameterCD='00060')\n",
    "    return df\n",
    "\n",
    "def resample_to_daily(df):\n",
    "    return df['00060'].resample('1D').mean()\n",
    "\n",
    "def visualize_summary_statistics(df):\n",
    "    print(df.describe())\n",
    "\n",
    "# Acquire / Filter\n",
    "df = acquire_streamflow_nwis_iv(site='04294000', start='2022-06-01', end='2022-11-01')\n",
    "print(df)\n",
    "\n",
    "# Manipulate\n",
    "daily = resample_to_daily(df)\n",
    "print(daily)\n",
    "\n",
    "# Visualize\n",
    "visualize_summary_statistics(daily)"
   ]
  },
  {
   "cell_type": "markdown",
   "id": "0535c343-1068-43e1-b896-fb4a6c84db64",
   "metadata": {},
   "source": [
    "So... our interface between acquire / filter is a dataframe with all kinds of stuff in it and coded column labels and our interface between manipulate and visualization is a pandas Series (one column of a DataFrame).  The single pandas Series seems to make sense to me for passing data to the visualization step, but that dataframe seems to have a bunch of extra stuff that we probably don't want.  In fact, it kinda complicates the function for resample():\n",
    "\n",
    "```\n",
    "def resample_to_daily(df):\n",
    "    return df['00060'].resample('1D').mean()\n",
    "```\n",
    "\n",
    "See how the function needs to have a column named '00060' for it to work? That severely limits the modularity, reusability, and generalizability of that function.  Thinking about this, we probably want that function to just simply be:\n",
    "\n",
    "```\n",
    "def resample_to_daily(df):\n",
    "    return df.resample('1D').mean()\n",
    "```\n",
    "\n",
    "but, if we tried that right now, the 00060_cd column in particular would give us problems because you can't take the mean of a character. "
   ]
  },
  {
   "cell_type": "code",
   "execution_count": null,
   "id": "1d0e9fb2-f2a2-417d-895a-5b6d085573e1",
   "metadata": {},
   "outputs": [],
   "source": [
    "import dataretrieval.nwis as nwis\n",
    "\n",
    "def acquire_streamflow_nwis_iv(site, start, end):\n",
    "    df = nwis.get_record(sites=site, service='iv', start=start, end=end, parameterCD='00060')\n",
    "    return df\n",
    "\n",
    "def resample_to_daily(df):\n",
    "    return df.resample('1D').mean()\n",
    "\n",
    "def visualize_summary_statistics(df):\n",
    "    print(df.describe())\n",
    "\n",
    "# Acquire / Filter\n",
    "df = acquire_streamflow_nwis_iv(site='04294000', start='2022-06-01', end='2022-11-01')\n",
    "\n",
    "# Manipulate\n",
    "daily = resample_to_daily(df)\n",
    "\n",
    "# Visualize\n",
    "visualize_summary_statistics(daily)"
   ]
  },
  {
   "cell_type": "markdown",
   "id": "2235647e-79d4-430c-970e-86f95dfc8a4d",
   "metadata": {},
   "source": [
    "So... let's structure this interface a little bit better.  It makes sense to me that the acquire_streamflow_nwis_iv() should simply return a column with the name \"streamflow\" so we know what it is.  Then, we can pass that one column around and manipulate it however we need.  So, let's do that..."
   ]
  },
  {
   "cell_type": "code",
   "execution_count": 5,
   "id": "103fd0fa-d9ef-40ea-a4f6-6e2fb421b4ec",
   "metadata": {},
   "outputs": [
    {
     "name": "stdout",
     "output_type": "stream",
     "text": [
      "datetime\n",
      "2022-06-01 04:00:00+00:00    2240.0\n",
      "2022-06-01 04:15:00+00:00    2210.0\n",
      "2022-06-01 04:30:00+00:00    2210.0\n",
      "2022-06-01 04:45:00+00:00    2190.0\n",
      "2022-06-01 05:00:00+00:00    2190.0\n",
      "                              ...  \n",
      "2022-11-02 02:45:00+00:00     914.0\n",
      "2022-11-02 03:00:00+00:00     860.0\n",
      "2022-11-02 03:15:00+00:00     780.0\n",
      "2022-11-02 03:30:00+00:00     718.0\n",
      "2022-11-02 03:45:00+00:00     674.0\n",
      "Name: streamflow (ft^3/s), Length: 14775, dtype: float64\n",
      "count     155.000000\n",
      "mean      989.816458\n",
      "std      1278.847398\n",
      "min       110.748958\n",
      "25%       306.796875\n",
      "50%       549.020833\n",
      "75%      1064.348958\n",
      "max      9091.354167\n",
      "Name: streamflow (ft^3/s), dtype: float64\n"
     ]
    }
   ],
   "source": [
    "import dataretrieval.nwis as nwis\n",
    "\n",
    "def acquire_streamflow_nwis_iv(site, start, end):\n",
    "    df = nwis.get_record(sites=site, service='iv', start=start, end=end, parameterCD='00060')\n",
    "    # https://help.waterdata.usgs.gov/parameter_cd?group_cd=PHY\n",
    "    return df['00060'].rename('streamflow (ft^3/s)')\n",
    "\n",
    "def resample_to_daily(df):\n",
    "    return df.resample('1D').mean()\n",
    "\n",
    "def visualize_summary_statistics(df):\n",
    "    print(df.describe())\n",
    "\n",
    "# Acquire / Filter\n",
    "df = acquire_streamflow_nwis_iv(site='04294000', start='2022-06-01', end='2022-11-01')\n",
    "print(df)\n",
    "\n",
    "# Manipulate\n",
    "daily = resample_to_daily(df)\n",
    "\n",
    "# Visualize\n",
    "visualize_summary_statistics(daily)"
   ]
  },
  {
   "cell_type": "markdown",
   "id": "48ee6e5f-253c-46a9-9133-a1638c55373e",
   "metadata": {},
   "source": [
    "There, now we have a standard interface between our modules that's simple and makes sense. There are a ton of options for what that interface could look like for your workflow. For this simple example, a single pandas Series works just fine, but if this was more complicated, we might want to have our interface be a list or Python dictionary of Series if we want to pass around more than a single Series between our modules."
   ]
  },
  {
   "cell_type": "markdown",
   "id": "12d65956-857a-463c-836d-933e307a1671",
   "metadata": {},
   "source": [
    "## Other Interface / Data Structure Concerns\n",
    "- Timezones\n",
    "- Units (English vs. SI)\n",
    "- Sampling Rate (15min, hourly, daily, etc.)"
   ]
  },
  {
   "cell_type": "code",
   "execution_count": null,
   "id": "93ec127a-56bb-41a6-84cf-894a83af3049",
   "metadata": {},
   "outputs": [],
   "source": []
  }
 ],
 "metadata": {
  "kernelspec": {
   "display_name": "Python 3 (ipykernel)",
   "language": "python",
   "name": "python3"
  },
  "language_info": {
   "codemirror_mode": {
    "name": "ipython",
    "version": 3
   },
   "file_extension": ".py",
   "mimetype": "text/x-python",
   "name": "python",
   "nbconvert_exporter": "python",
   "pygments_lexer": "ipython3",
   "version": "3.11.8"
  }
 },
 "nbformat": 4,
 "nbformat_minor": 5
}
